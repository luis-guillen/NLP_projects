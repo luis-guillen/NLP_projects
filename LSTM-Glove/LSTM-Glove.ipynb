{
 "cells": [
  {
   "cell_type": "markdown",
   "metadata": {
    "id": "9S1lm9y-xqYi"
   },
   "source": [
    "# **NOTEBOOK 13**\n",
    "---"
   ]
  },
  {
   "cell_type": "markdown",
   "metadata": {
    "id": "6W5qwMcSxqYj"
   },
   "source": [
    "# **Modelos del lenguaje basados en redes neuronales artificiales**"
   ]
  },
  {
   "cell_type": "markdown",
   "metadata": {
    "id": "BbfBu0SWxqYj"
   },
   "source": [
    "## **Redes neuronales recurrentes (RNN)**\n",
    "\n",
    "### **Ejemplo de aplicación de un modelo LSTM a la clasificación de textos**\n",
    "\n",
    "#### **Dataset**\n",
    "\n",
    "El conjunto de datos \"AG_NEWS\" es un conjunto de datos de clasificación de texto ampliamente utilizado en el campo del procesamiento de lenguaje natural (NLP). Contiene noticias de diferentes categorías y se utiliza comúnmente para tareas de clasificación de texto. El conjunto de datos AG_NEWS consta de noticias de cuatro categorías principales, que son:\n",
    "\n",
    "1. **World**: Noticias sobre eventos y acontecimientos globales, como política internacional, relaciones internacionales y noticias mundiales en general.\n",
    "\n",
    "2. **Sports**: Noticias relacionadas con eventos deportivos, resultados de partidos, eventos deportivos nacionales e internacionales, etc.\n",
    "\n",
    "3. **Business**: Noticias relacionadas con el mundo de los negocios, finanzas, economía, empresas, informes de ganancias y otros temas económicos.\n",
    "\n",
    "4. **Sci/Tech**: Noticias relacionadas con ciencia y tecnología, incluyendo avances científicos, novedades tecnológicas, gadgets, investigaciones científicas y más.\n",
    "\n",
    "Cada instancia del conjunto de datos AG_NEWS generalmente consiste en un título y un cuerpo de una noticia, junto con una etiqueta que indica la categoría a la que pertenece."
   ]
  },
  {
   "cell_type": "code",
   "execution_count": 2,
   "metadata": {
    "executionInfo": {
     "elapsed": 8225,
     "status": "ok",
     "timestamp": 1728908296898,
     "user": {
      "displayName": "Cayetano Guerra Artal",
      "userId": "03341762219900016346"
     },
     "user_tz": -60
    },
    "id": "gbXbkjC5xqYk"
   },
   "outputs": [
    {
     "name": "stdout",
     "output_type": "stream",
     "text": [
      "Collecting torchtext\n",
      "  Downloading torchtext-0.18.0-cp312-cp312-macosx_11_0_arm64.whl.metadata (7.9 kB)\n",
      "Requirement already satisfied: tqdm in /Users/luisguillen/.virtualenvs/PLN2/lib/python3.12/site-packages (from torchtext) (4.67.1)\n",
      "Requirement already satisfied: requests in /Users/luisguillen/.virtualenvs/PLN2/lib/python3.12/site-packages (from torchtext) (2.32.3)\n",
      "Requirement already satisfied: torch>=2.3.0 in /Users/luisguillen/.virtualenvs/PLN2/lib/python3.12/site-packages (from torchtext) (2.5.1)\n",
      "Requirement already satisfied: numpy in /Users/luisguillen/.virtualenvs/PLN2/lib/python3.12/site-packages (from torchtext) (1.26.3)\n",
      "Requirement already satisfied: filelock in /Users/luisguillen/.virtualenvs/PLN2/lib/python3.12/site-packages (from torch>=2.3.0->torchtext) (3.13.1)\n",
      "Requirement already satisfied: typing-extensions>=4.8.0 in /Users/luisguillen/.virtualenvs/PLN2/lib/python3.12/site-packages (from torch>=2.3.0->torchtext) (4.12.2)\n",
      "Requirement already satisfied: networkx in /Users/luisguillen/.virtualenvs/PLN2/lib/python3.12/site-packages (from torch>=2.3.0->torchtext) (3.2.1)\n",
      "Requirement already satisfied: jinja2 in /Users/luisguillen/.virtualenvs/PLN2/lib/python3.12/site-packages (from torch>=2.3.0->torchtext) (3.1.3)\n",
      "Requirement already satisfied: fsspec in /Users/luisguillen/.virtualenvs/PLN2/lib/python3.12/site-packages (from torch>=2.3.0->torchtext) (2024.2.0)\n",
      "Requirement already satisfied: setuptools in /Users/luisguillen/.virtualenvs/PLN2/lib/python3.12/site-packages (from torch>=2.3.0->torchtext) (70.0.0)\n",
      "Requirement already satisfied: sympy==1.13.1 in /Users/luisguillen/.virtualenvs/PLN2/lib/python3.12/site-packages (from torch>=2.3.0->torchtext) (1.13.1)\n",
      "Requirement already satisfied: mpmath<1.4,>=1.1.0 in /Users/luisguillen/.virtualenvs/PLN2/lib/python3.12/site-packages (from sympy==1.13.1->torch>=2.3.0->torchtext) (1.3.0)\n",
      "Requirement already satisfied: charset-normalizer<4,>=2 in /Users/luisguillen/.virtualenvs/PLN2/lib/python3.12/site-packages (from requests->torchtext) (3.4.1)\n",
      "Requirement already satisfied: idna<4,>=2.5 in /Users/luisguillen/.virtualenvs/PLN2/lib/python3.12/site-packages (from requests->torchtext) (3.10)\n",
      "Requirement already satisfied: urllib3<3,>=1.21.1 in /Users/luisguillen/.virtualenvs/PLN2/lib/python3.12/site-packages (from requests->torchtext) (2.3.0)\n",
      "Requirement already satisfied: certifi>=2017.4.17 in /Users/luisguillen/.virtualenvs/PLN2/lib/python3.12/site-packages (from requests->torchtext) (2024.12.14)\n",
      "Requirement already satisfied: MarkupSafe>=2.0 in /Users/luisguillen/.virtualenvs/PLN2/lib/python3.12/site-packages (from jinja2->torch>=2.3.0->torchtext) (2.1.5)\n",
      "Downloading torchtext-0.18.0-cp312-cp312-macosx_11_0_arm64.whl (2.1 MB)\n",
      "\u001b[2K   \u001b[90m━━━━━━━━━━━━━━━━━━━━━━━━━━━━━━━━━━━━━━━━\u001b[0m \u001b[32m2.1/2.1 MB\u001b[0m \u001b[31m11.9 MB/s\u001b[0m eta \u001b[36m0:00:00\u001b[0ma \u001b[36m0:00:01\u001b[0m\n",
      "\u001b[?25hInstalling collected packages: torchtext\n",
      "Successfully installed torchtext-0.18.0\n",
      "Note: you may need to restart the kernel to use updated packages.\n"
     ]
    },
    {
     "name": "stderr",
     "output_type": "stream",
     "text": [
      "/Users/luisguillen/.virtualenvs/PLN2/lib/python3.12/site-packages/torchtext/__init__.py:7: SyntaxWarning: invalid escape sequence '\\ '\n",
      "  \"\\n/!\\ IMPORTANT WARNING ABOUT TORCHTEXT STATUS /!\\ \\n\"\n"
     ]
    },
    {
     "ename": "OSError",
     "evalue": "dlopen(/Users/luisguillen/.virtualenvs/PLN2/lib/python3.12/site-packages/torchtext/lib/libtorchtext.so, 0x0006): Symbol not found: __ZN3c105ErrorC1ENSt3__112basic_stringIcNS1_11char_traitsIcEENS1_9allocatorIcEEEES7_PKv\n  Referenced from: <7E3C8144-0701-3505-8587-6E953627B6AF> /Users/luisguillen/.virtualenvs/PLN2/lib/python3.12/site-packages/torchtext/lib/libtorchtext.so\n  Expected in:     <BA9C42A5-EA1D-3784-80E1-73FBFDE05847> /Users/luisguillen/.virtualenvs/PLN2/lib/python3.12/site-packages/torch/lib/libc10.dylib",
     "output_type": "error",
     "traceback": [
      "\u001b[0;31m---------------------------------------------------------------------------\u001b[0m",
      "\u001b[0;31mOSError\u001b[0m                                   Traceback (most recent call last)",
      "Cell \u001b[0;32mIn[2], line 4\u001b[0m\n\u001b[1;32m      1\u001b[0m \u001b[38;5;66;03m# Install torchtext if not already installed\u001b[39;00m\n\u001b[1;32m      2\u001b[0m get_ipython()\u001b[38;5;241m.\u001b[39mrun_line_magic(\u001b[38;5;124m'\u001b[39m\u001b[38;5;124mpip\u001b[39m\u001b[38;5;124m'\u001b[39m, \u001b[38;5;124m'\u001b[39m\u001b[38;5;124minstall torchtext\u001b[39m\u001b[38;5;124m'\u001b[39m)\n\u001b[0;32m----> 4\u001b[0m \u001b[38;5;28;01mfrom\u001b[39;00m\u001b[38;5;250m \u001b[39m\u001b[38;5;21;01mtorchtext\u001b[39;00m\u001b[38;5;250m \u001b[39m\u001b[38;5;28;01mimport\u001b[39;00m datasets\n\u001b[1;32m      5\u001b[0m \u001b[38;5;28;01mfrom\u001b[39;00m\u001b[38;5;250m \u001b[39m\u001b[38;5;21;01mtorchtext\u001b[39;00m\u001b[38;5;21;01m.\u001b[39;00m\u001b[38;5;21;01mdata\u001b[39;00m\u001b[38;5;250m \u001b[39m\u001b[38;5;28;01mimport\u001b[39;00m to_map_style_dataset\n\u001b[1;32m      6\u001b[0m \u001b[38;5;28;01mimport\u001b[39;00m\u001b[38;5;250m \u001b[39m\u001b[38;5;21;01mnumpy\u001b[39;00m\u001b[38;5;250m \u001b[39m\u001b[38;5;28;01mas\u001b[39;00m\u001b[38;5;250m \u001b[39m\u001b[38;5;21;01mnp\u001b[39;00m\n",
      "File \u001b[0;32m~/.virtualenvs/PLN2/lib/python3.12/site-packages/torchtext/__init__.py:18\u001b[0m\n\u001b[1;32m     15\u001b[0m     _WARN \u001b[38;5;241m=\u001b[39m \u001b[38;5;28;01mFalse\u001b[39;00m\n\u001b[1;32m     17\u001b[0m \u001b[38;5;66;03m# the following import has to happen first in order to load the torchtext C++ library\u001b[39;00m\n\u001b[0;32m---> 18\u001b[0m \u001b[38;5;28;01mfrom\u001b[39;00m\u001b[38;5;250m \u001b[39m\u001b[38;5;21;01mtorchtext\u001b[39;00m\u001b[38;5;250m \u001b[39m\u001b[38;5;28;01mimport\u001b[39;00m _extension  \u001b[38;5;66;03m# noqa: F401\u001b[39;00m\n\u001b[1;32m     20\u001b[0m _TEXT_BUCKET \u001b[38;5;241m=\u001b[39m \u001b[38;5;124m\"\u001b[39m\u001b[38;5;124mhttps://download.pytorch.org/models/text/\u001b[39m\u001b[38;5;124m\"\u001b[39m\n\u001b[1;32m     22\u001b[0m _CACHE_DIR \u001b[38;5;241m=\u001b[39m os\u001b[38;5;241m.\u001b[39mpath\u001b[38;5;241m.\u001b[39mexpanduser(os\u001b[38;5;241m.\u001b[39mpath\u001b[38;5;241m.\u001b[39mjoin(_get_torch_home(), \u001b[38;5;124m\"\u001b[39m\u001b[38;5;124mtext\u001b[39m\u001b[38;5;124m\"\u001b[39m))\n",
      "File \u001b[0;32m~/.virtualenvs/PLN2/lib/python3.12/site-packages/torchtext/_extension.py:64\u001b[0m\n\u001b[1;32m     59\u001b[0m     \u001b[38;5;66;03m# This import is for initializing the methods registered via PyBind11\u001b[39;00m\n\u001b[1;32m     60\u001b[0m     \u001b[38;5;66;03m# This has to happen after the base library is loaded\u001b[39;00m\n\u001b[1;32m     61\u001b[0m     \u001b[38;5;28;01mfrom\u001b[39;00m\u001b[38;5;250m \u001b[39m\u001b[38;5;21;01mtorchtext\u001b[39;00m\u001b[38;5;250m \u001b[39m\u001b[38;5;28;01mimport\u001b[39;00m _torchtext  \u001b[38;5;66;03m# noqa\u001b[39;00m\n\u001b[0;32m---> 64\u001b[0m \u001b[43m_init_extension\u001b[49m\u001b[43m(\u001b[49m\u001b[43m)\u001b[49m\n",
      "File \u001b[0;32m~/.virtualenvs/PLN2/lib/python3.12/site-packages/torchtext/_extension.py:58\u001b[0m, in \u001b[0;36m_init_extension\u001b[0;34m()\u001b[0m\n\u001b[1;32m     55\u001b[0m \u001b[38;5;28;01mif\u001b[39;00m \u001b[38;5;129;01mnot\u001b[39;00m _mod_utils\u001b[38;5;241m.\u001b[39mis_module_available(\u001b[38;5;124m\"\u001b[39m\u001b[38;5;124mtorchtext._torchtext\u001b[39m\u001b[38;5;124m\"\u001b[39m):\n\u001b[1;32m     56\u001b[0m     \u001b[38;5;28;01mraise\u001b[39;00m \u001b[38;5;167;01mImportError\u001b[39;00m(\u001b[38;5;124m\"\u001b[39m\u001b[38;5;124mtorchtext C++ Extension is not found.\u001b[39m\u001b[38;5;124m\"\u001b[39m)\n\u001b[0;32m---> 58\u001b[0m \u001b[43m_load_lib\u001b[49m\u001b[43m(\u001b[49m\u001b[38;5;124;43m\"\u001b[39;49m\u001b[38;5;124;43mlibtorchtext\u001b[39;49m\u001b[38;5;124;43m\"\u001b[39;49m\u001b[43m)\u001b[49m\n\u001b[1;32m     59\u001b[0m \u001b[38;5;66;03m# This import is for initializing the methods registered via PyBind11\u001b[39;00m\n\u001b[1;32m     60\u001b[0m \u001b[38;5;66;03m# This has to happen after the base library is loaded\u001b[39;00m\n\u001b[1;32m     61\u001b[0m \u001b[38;5;28;01mfrom\u001b[39;00m\u001b[38;5;250m \u001b[39m\u001b[38;5;21;01mtorchtext\u001b[39;00m\u001b[38;5;250m \u001b[39m\u001b[38;5;28;01mimport\u001b[39;00m _torchtext\n",
      "File \u001b[0;32m~/.virtualenvs/PLN2/lib/python3.12/site-packages/torchtext/_extension.py:50\u001b[0m, in \u001b[0;36m_load_lib\u001b[0;34m(lib)\u001b[0m\n\u001b[1;32m     48\u001b[0m \u001b[38;5;28;01mif\u001b[39;00m \u001b[38;5;129;01mnot\u001b[39;00m path\u001b[38;5;241m.\u001b[39mexists():\n\u001b[1;32m     49\u001b[0m     \u001b[38;5;28;01mreturn\u001b[39;00m \u001b[38;5;28;01mFalse\u001b[39;00m\n\u001b[0;32m---> 50\u001b[0m \u001b[43mtorch\u001b[49m\u001b[38;5;241;43m.\u001b[39;49m\u001b[43mops\u001b[49m\u001b[38;5;241;43m.\u001b[39;49m\u001b[43mload_library\u001b[49m\u001b[43m(\u001b[49m\u001b[43mpath\u001b[49m\u001b[43m)\u001b[49m\n\u001b[1;32m     51\u001b[0m \u001b[38;5;28;01mreturn\u001b[39;00m \u001b[38;5;28;01mTrue\u001b[39;00m\n",
      "File \u001b[0;32m~/.virtualenvs/PLN2/lib/python3.12/site-packages/torch/_ops.py:1350\u001b[0m, in \u001b[0;36m_Ops.load_library\u001b[0;34m(self, path)\u001b[0m\n\u001b[1;32m   1345\u001b[0m path \u001b[38;5;241m=\u001b[39m _utils_internal\u001b[38;5;241m.\u001b[39mresolve_library_path(path)\n\u001b[1;32m   1346\u001b[0m \u001b[38;5;28;01mwith\u001b[39;00m dl_open_guard():\n\u001b[1;32m   1347\u001b[0m     \u001b[38;5;66;03m# Import the shared library into the process, thus running its\u001b[39;00m\n\u001b[1;32m   1348\u001b[0m     \u001b[38;5;66;03m# static (global) initialization code in order to register custom\u001b[39;00m\n\u001b[1;32m   1349\u001b[0m     \u001b[38;5;66;03m# operators with the JIT.\u001b[39;00m\n\u001b[0;32m-> 1350\u001b[0m     \u001b[43mctypes\u001b[49m\u001b[38;5;241;43m.\u001b[39;49m\u001b[43mCDLL\u001b[49m\u001b[43m(\u001b[49m\u001b[43mpath\u001b[49m\u001b[43m)\u001b[49m\n\u001b[1;32m   1351\u001b[0m \u001b[38;5;28mself\u001b[39m\u001b[38;5;241m.\u001b[39mloaded_libraries\u001b[38;5;241m.\u001b[39madd(path)\n",
      "File \u001b[0;32m/opt/homebrew/Cellar/python@3.12/3.12.8/Frameworks/Python.framework/Versions/3.12/lib/python3.12/ctypes/__init__.py:379\u001b[0m, in \u001b[0;36mCDLL.__init__\u001b[0;34m(self, name, mode, handle, use_errno, use_last_error, winmode)\u001b[0m\n\u001b[1;32m    376\u001b[0m \u001b[38;5;28mself\u001b[39m\u001b[38;5;241m.\u001b[39m_FuncPtr \u001b[38;5;241m=\u001b[39m _FuncPtr\n\u001b[1;32m    378\u001b[0m \u001b[38;5;28;01mif\u001b[39;00m handle \u001b[38;5;129;01mis\u001b[39;00m \u001b[38;5;28;01mNone\u001b[39;00m:\n\u001b[0;32m--> 379\u001b[0m     \u001b[38;5;28mself\u001b[39m\u001b[38;5;241m.\u001b[39m_handle \u001b[38;5;241m=\u001b[39m \u001b[43m_dlopen\u001b[49m\u001b[43m(\u001b[49m\u001b[38;5;28;43mself\u001b[39;49m\u001b[38;5;241;43m.\u001b[39;49m\u001b[43m_name\u001b[49m\u001b[43m,\u001b[49m\u001b[43m \u001b[49m\u001b[43mmode\u001b[49m\u001b[43m)\u001b[49m\n\u001b[1;32m    380\u001b[0m \u001b[38;5;28;01melse\u001b[39;00m:\n\u001b[1;32m    381\u001b[0m     \u001b[38;5;28mself\u001b[39m\u001b[38;5;241m.\u001b[39m_handle \u001b[38;5;241m=\u001b[39m handle\n",
      "\u001b[0;31mOSError\u001b[0m: dlopen(/Users/luisguillen/.virtualenvs/PLN2/lib/python3.12/site-packages/torchtext/lib/libtorchtext.so, 0x0006): Symbol not found: __ZN3c105ErrorC1ENSt3__112basic_stringIcNS1_11char_traitsIcEENS1_9allocatorIcEEEES7_PKv\n  Referenced from: <7E3C8144-0701-3505-8587-6E953627B6AF> /Users/luisguillen/.virtualenvs/PLN2/lib/python3.12/site-packages/torchtext/lib/libtorchtext.so\n  Expected in:     <BA9C42A5-EA1D-3784-80E1-73FBFDE05847> /Users/luisguillen/.virtualenvs/PLN2/lib/python3.12/site-packages/torch/lib/libc10.dylib"
     ]
    }
   ],
   "source": [
    "# Install torchtext if not already installed\n",
    "%pip install torchtext\n",
    "\n",
    "from torchtext import datasets\n",
    "from torchtext.data import to_map_style_dataset\n",
    "import numpy as np\n",
    "\n",
    "# Load the dataset\n",
    "train_iter, test_iter = datasets.AG_NEWS(split=('train', 'test'))\n",
    "\n",
    "train_ds = to_map_style_dataset(train_iter)\n",
    "test_ds = to_map_style_dataset(test_iter)\n",
    "\n",
    "train = np.array(train_ds)\n",
    "test = np.array(test_ds)"
   ]
  },
  {
   "cell_type": "markdown",
   "metadata": {
    "id": "jV5BhlMqxqYl"
   },
   "source": [
    "#### **Tokenización**"
   ]
  },
  {
   "cell_type": "code",
   "execution_count": 6,
   "metadata": {
    "executionInfo": {
     "elapsed": 5821,
     "status": "ok",
     "timestamp": 1728908353696,
     "user": {
      "displayName": "Cayetano Guerra Artal",
      "userId": "03341762219900016346"
     },
     "user_tz": -60
    },
    "id": "seueGfPVxqYl"
   },
   "outputs": [],
   "source": [
    "# Create vocabulary and embedding\n",
    "\n",
    "from torchtext.vocab import build_vocab_from_iterator\n",
    "from torchtext.data.utils import get_tokenizer\n",
    "\n",
    "tokenizer = get_tokenizer(\"basic_english\")\n",
    "\n",
    "vocab = build_vocab_from_iterator(map(lambda x: tokenizer(x[1]), train_iter), specials=['<pad>','<unk>'])\n",
    "vocab.set_default_index(vocab[\"<unk>\"])"
   ]
  },
  {
   "cell_type": "code",
   "execution_count": 3,
   "metadata": {
    "colab": {
     "base_uri": "https://localhost:8080/"
    },
    "executionInfo": {
     "elapsed": 334,
     "status": "ok",
     "timestamp": 1728908361600,
     "user": {
      "displayName": "Cayetano Guerra Artal",
      "userId": "03341762219900016346"
     },
     "user_tz": -60
    },
    "id": "Aipi5gGxxqYm",
    "outputId": "fc5a0384-35c8-48f5-a0fd-20ae00efa9de"
   },
   "outputs": [
    {
     "name": "stdout",
     "output_type": "stream",
     "text": [
      "Tamaño del vocabulario: 95812 tokens\n",
      "Tokenización de la frase 'Here is an example sentence': ['here', 'is', 'an', 'example', 'sentence']\n",
      "Índices de las palabras 'here', 'is', 'an', 'example', 'supercalifragilisticexpialidocious': [476, 22, 31, 5298, 1]\n",
      "Palabras correspondientes a los índices 475, 21, 30, 5297, 0: ['version', 'at', 'from', 'establish', '<pad>']\n",
      "Las diez primeras palabras del vocabulario: ['<pad>', '<unk>', '.', 'the', ',', 'to', 'a', 'of', 'in', 'and']\n"
     ]
    }
   ],
   "source": [
    "print(\"Tamaño del vocabulario:\", len(vocab), \"tokens\")\n",
    "print(\"Tokenización de la frase 'Here is an example sentence':\", tokenizer(\"Here is an example sentence\"))\n",
    "print(\"Índices de las palabras 'here', 'is', 'an', 'example', 'supercalifragilisticexpialidocious':\", vocab(['here', 'is', 'an', 'example', 'supercalifragilisticexpialidocious']))\n",
    "print(\"Palabras correspondientes a los índices 475, 21, 30, 5297, 0:\", vocab.lookup_tokens([475, 21, 30, 5297, 0]))\n",
    "print(\"Las diez primeras palabras del vocabulario:\", vocab.get_itos()[:10])"
   ]
  },
  {
   "cell_type": "code",
   "execution_count": 12,
   "metadata": {
    "colab": {
     "base_uri": "https://localhost:8080/"
    },
    "executionInfo": {
     "elapsed": 360,
     "status": "ok",
     "timestamp": 1728908363676,
     "user": {
      "displayName": "Cayetano Guerra Artal",
      "userId": "03341762219900016346"
     },
     "user_tz": -60
    },
    "id": "jl0QHJawxqYn",
    "outputId": "9cb311f8-10fb-4f0b-dba1-6af8dbd2537a"
   },
   "outputs": [
    {
     "name": "stdout",
     "output_type": "stream",
     "text": [
      "Tokenización de la frase 'Here is an example sentence': [476, 22, 31, 5298, 2994]\n"
     ]
    }
   ],
   "source": [
    "text_pipeline = lambda x: vocab(tokenizer(x))\n",
    "label_pipeline = lambda x: int(x) - 1\n",
    "\n",
    "print(\"Tokenización de la frase 'Here is an example sentence':\", text_pipeline(\"Here is an example sentence\"))"
   ]
  },
  {
   "cell_type": "markdown",
   "metadata": {
    "id": "B5JcoOcUxqYn"
   },
   "source": [
    "#### **DataLoader**\n",
    "\n",
    "En PyTorch, **DataLoader** se utiliza para cargar y manejar datos de manera eficiente durante el entrenamiento de modelos de aprendizaje profundo, especialmente en tareas de aprendizaje supervisado como la clasificación, la regresión y más. El DataLoader forma parte de la biblioteca torch.utils.data, y su objetivo principal es facilitar la administración de lotes (batches) de datos y la distribución de esos lotes al modelo de forma automática.\n",
    "\n",
    "La función <code>collate_batch</code> es una función personalizada que se utiliza como argumento para collate_fn al crear instancias de los objetos DataLoader. Tiene la responsabilidad de procesar y agrupar las muestras individuales de datos dentro de un lote (batch) de manera que sean compatibles para su posterior procesamiento dentro de la LSTM. Es especialmente útil cuando las secuencias de texto tienen longitudes diferentes y es necesario realizar un relleno (padding) para que todas tengan la misma longitud."
   ]
  },
  {
   "cell_type": "code",
   "execution_count": 10,
   "metadata": {
    "executionInfo": {
     "elapsed": 214,
     "status": "ok",
     "timestamp": 1728908366686,
     "user": {
      "displayName": "Cayetano Guerra Artal",
      "userId": "03341762219900016346"
     },
     "user_tz": -60
    },
    "id": "O2B6ez1txqYn"
   },
   "outputs": [],
   "source": [
    "from torch.utils.data import DataLoader\n",
    "import torch\n",
    "\n",
    "\n",
    "def collate_batch(batch):\n",
    "    label_list, text_list = [], []\n",
    "    for sample in batch:\n",
    "        label, text = sample\n",
    "        text_list.append(torch.tensor(text_pipeline(text), dtype=torch.long))\n",
    "        label_list.append(label_pipeline(label))\n",
    "    return torch.tensor(label_list, dtype=torch.long), torch.nn.utils.rnn.pad_sequence(text_list, batch_first=True, padding_value=vocab[\"<pad>\"])\n",
    "\n",
    "train_dataloader = DataLoader(\n",
    "    train_iter, batch_size=64, shuffle=True, collate_fn=collate_batch\n",
    ")\n",
    "\n",
    "test_dataloader = DataLoader(\n",
    "    test_iter, batch_size=64, shuffle=True, collate_fn=collate_batch\n",
    ")"
   ]
  },
  {
   "cell_type": "markdown",
   "metadata": {
    "id": "9L3FTmizxqYn"
   },
   "source": [
    "Para verificar que estamos creando correctamente los lotes, vamos a imprimir las primeras cuatro instancias:"
   ]
  },
  {
   "cell_type": "code",
   "execution_count": 6,
   "metadata": {
    "colab": {
     "base_uri": "https://localhost:8080/"
    },
    "executionInfo": {
     "elapsed": 336,
     "status": "ok",
     "timestamp": 1728908368790,
     "user": {
      "displayName": "Cayetano Guerra Artal",
      "userId": "03341762219900016346"
     },
     "user_tz": -60
    },
    "id": "jrARED6OxqYn",
    "outputId": "a8135155-6499-4af8-ad1e-4353cb437961"
   },
   "outputs": [
    {
     "name": "stdout",
     "output_type": "stream",
     "text": [
      "tensor([[  186, 50454,  5343,  2730,  2730,    12,  3431, 18271,  2129, 10498,\n",
      "         17318,     7,     3,  2889,     4,  2565,     4,     3,   277,  7059,\n",
      "             4,    19,   212,   700,    13,    10, 22939, 50454,     4,  2730,\n",
      "             4,   292,     4,     9,   271,    13,    10,  4487,  8035,     4,\n",
      "            76,   444,     3,  2947,     4,   221,     3,   708,  2882,    12,\n",
      "             3, 27423,  5530,    21,     3,     2,     2,     2,     0,     0,\n",
      "             0,     0,     0,     0,     0,     0,     0,     0,     0,     0,\n",
      "             0,     0,     0,     0,     0,     0,     0,     0,     0,     0,\n",
      "             0,     0,     0,     0,     0,     0,     0,     0,     0,     0,\n",
      "             0,     0,     0,     0,     0],\n",
      "        [  142, 29389,  3701,   541,   132,  1080,   463,    21,  7180,  2141,\n",
      "         46135,     4,    62,   780,     7,     6,  2645,   648,  1329,  5083,\n",
      "           414, 26203,    21,  3281, 29389,     4,  2447,  3295,  5523,     2,\n",
      "             0,     0,     0,     0,     0,     0,     0,     0,     0,     0,\n",
      "             0,     0,     0,     0,     0,     0,     0,     0,     0,     0,\n",
      "             0,     0,     0,     0,     0,     0,     0,     0,     0,     0,\n",
      "             0,     0,     0,     0,     0,     0,     0,     0,     0,     0,\n",
      "             0,     0,     0,     0,     0,     0,     0,     0,     0,     0,\n",
      "             0,     0,     0,     0,     0,     0,     0,     0,     0,     0,\n",
      "             0,     0,     0,     0,     0],\n",
      "        [ 1146,  2172,   975,     7,  1435,     4,  3154,     6,  1600,  1452,\n",
      "            47,    73,   512,    14,  4042,    15,     7,     3,   176,   182,\n",
      "          3249, 16370,     3,   119,  1950,  1146,  3957,     8, 75125,    30,\n",
      "           288,  3786,   107,     8,  1233,  1160,     4,   210,     5,  1597,\n",
      "           345,    58,    25, 33041,     2,     0,     0,     0,     0,     0,\n",
      "             0,     0,     0,     0,     0,     0,     0,     0,     0,     0,\n",
      "             0,     0,     0,     0,     0,     0,     0,     0,     0,     0,\n",
      "             0,     0,     0,     0,     0,     0,     0,     0,     0,     0,\n",
      "             0,     0,     0,     0,     0,     0,     0,     0,     0,     0,\n",
      "             0,     0,     0,     0,     0],\n",
      "        [ 2708,     9,  6070,     5,   661,    19,  1096,   931,     4,  1147,\n",
      "           641,    14,   106,    15,    16,   680,  3997,  7124,  6070,     9,\n",
      "           433,    77,  2498,  2708,    34,   661,    19,   371,    77,  1736,\n",
      "          1096,    21,    33,   849,  1793,  3514,  9260,    21,     3,   153,\n",
      "             7,     3,   226,     4,  6478,  4376,     3,   132,  3591,  1159,\n",
      "            20,   604,     2,     2,     2,     0,     0,     0,     0,     0,\n",
      "             0,     0,     0,     0,     0,     0,     0,     0,     0,     0,\n",
      "             0,     0,     0,     0,     0,     0,     0,     0,     0,     0,\n",
      "             0,     0,     0,     0,     0,     0,     0,     0,     0,     0,\n",
      "             0,     0,     0,     0,     0]])\n",
      "\n",
      "\n",
      "tensor([1, 3, 3, 0])\n",
      "\n",
      "\n"
     ]
    }
   ],
   "source": [
    "for batch in train_dataloader:\n",
    "    print(batch[1][:4])\n",
    "    print(\"\\n\")\n",
    "    print(batch[0][:4])\n",
    "    print(\"\\n\")\n",
    "    break"
   ]
  },
  {
   "cell_type": "markdown",
   "metadata": {
    "id": "olLasSBixqYo"
   },
   "source": [
    "#### **Modelo LSTM**\n",
    "\n",
    "Definimos una clase llamada `LSTMTextClassificationModel` para la clasificación de texto basado en LSTM. Esta clase hereda de `nn.Module`, la clase base para todos los modelos en PyTorch.\n",
    "\n",
    "**Inicialización del Modelo**: En el método `__init__`, se definen los componentes principales del modelo y se configuran sus parámetros:\n",
    "   - **vocab_size**: El tamaño del vocabulario, es decir, la cantidad de palabras únicas en el conjunto de datos de entrenamiento.\n",
    "   - **embed_dim**: La dimensión de los vectores de embedding para representar las palabras.\n",
    "   - **hidden_dim**: El tamaño de la capa oculta de la LSTM, que controla la cantidad de unidades o \"memoria\" en la red LSTM.\n",
    "   - **num_class**: El número de clases de salida en la tarea de clasificación.\n",
    "\n",
    "\n",
    "**Capa de Embedding**: Se define una capa de embedding (`nn.Embedding`) que se utilizará para representar las palabras como vectores densos. Esta capa no es pre-entrenada, lo que significa que los vectores de embedding se entrenarán junto con el modelo durante el proceso de entrenamiento.\n",
    "\n",
    "**Capa LSTM**: Se define una capa LSTM (`nn.LSTM`) que toma los vectores de embedding como entrada. `embed_dim` es la dimensión de entrada de la capa LSTM, y `hidden_dim` es la dimensión de su capa oculta. `batch_first=True` indica que los datos de entrada tendrán la forma `(batch_size, sequence_length, embed_dim)`.\n",
    "\n",
    "**Capa Fully Connected (FC)**: Se define una capa completamente conectada (`nn.Linear`) que se utiliza para producir las salidas de clasificación. Toma las salidas de la capa LSTM correspondientes a la última iteración y las reduce a `num_class` dimensiones, que corresponde al número de clases en la tarea de clasificación.\n"
   ]
  },
  {
   "cell_type": "code",
   "execution_count": 7,
   "metadata": {
    "executionInfo": {
     "elapsed": 235,
     "status": "ok",
     "timestamp": 1728908372534,
     "user": {
      "displayName": "Cayetano Guerra Artal",
      "userId": "03341762219900016346"
     },
     "user_tz": -60
    },
    "id": "wSdiZefYxqYo"
   },
   "outputs": [],
   "source": [
    "import torch\n",
    "import torch.nn as nn\n",
    "\n",
    "class LSTMTextClassificationModel(nn.Module):\n",
    "    def __init__(self, vocab_size, embed_dim, hidden_dim, num_class):\n",
    "        super(LSTMTextClassificationModel, self).__init__()\n",
    "        self.embedding = nn.Embedding(vocab_size, embed_dim)  # <-- Capa de embedding genérica (no pre-entrenada)\n",
    "        self.lstm = nn.LSTM(embed_dim, hidden_dim, batch_first=True)\n",
    "        #self.rnn = nn.RNN(embed_dim, hidden_dim, batch_first=True)\n",
    "        self.fc = nn.Linear(hidden_dim, num_class)\n",
    "\n",
    "    def forward(self, text):\n",
    "        embedded = self.embedding(text)  # <-- Tras pasar por la capa de embedding, las palabras se representan como vectores\n",
    "        lstm_out, _ = self.lstm(embedded)\n",
    "        #lstm_out, _ = self.rnn(embedded)\n",
    "        # Tomar la última salida de la secuencia LSTM\n",
    "        last_output = lstm_out[:, -1, :]\n",
    "        output = self.fc(last_output)\n",
    "        return output\n"
   ]
  },
  {
   "cell_type": "markdown",
   "metadata": {
    "id": "0yrD4EVfxqYo"
   },
   "source": [
    "Antes de seguir veamos cómo se conforma un *batch* de datos tras pasar la capa de *embedding*. Como se muestra en la figura siguiente, un *batch* es un vector de tres dimensiones, donde la primera dimensión es el tamaño del *batch*, la segunda dimensión es el número de palabras en cada secuencia y la tercera dimensión es el tamaño del vector de *embedding* (*channels* o *features*).\n",
    "\n",
    "<img src=\"imgs/Lote1_b.svg\" width=\"30%\">\n",
    "\n",
    "Por ejemplo, un *token* estaría ahora representado por un vector de *embedding* de tres componentes, en lugar de un escalar. Si lo quisiéramos referenciar sería: <code>mini_lote[0,3,:]</code>.\n",
    "\n",
    "<img src=\"imgs/Lote2_b.svg\" width=\"30%\">\n",
    "\n",
    "\n",
    "Fíjate que la tercera dimensión del tensor de salida de la LSTM no tiene por qué tener el mismo tamaño que la tercera dimensión del tensor de entrada. La parte del tensor correspondiente a la línea de código <code>last_output = lstm_out[:, -1, :]</code> sería parecida a la siguiente:\n",
    "\n",
    "<img src=\"imgs/Lote3_b.svg\" width=\"30%\">"
   ]
  },
  {
   "cell_type": "markdown",
   "metadata": {
    "id": "z2lNyGO7xqYo"
   },
   "source": [
    "Ya podemos pasar un primer mini-lote de datos por la red. Para ello, vamos a crearlo a partir de los datos de entrenamiento. Esto solo lo hacemos para asegurarnos de que el código funciona correctamente."
   ]
  },
  {
   "cell_type": "code",
   "execution_count": 8,
   "metadata": {
    "colab": {
     "base_uri": "https://localhost:8080/"
    },
    "executionInfo": {
     "elapsed": 265,
     "status": "ok",
     "timestamp": 1728908375142,
     "user": {
      "displayName": "Cayetano Guerra Artal",
      "userId": "03341762219900016346"
     },
     "user_tz": -60
    },
    "id": "RGHlu-SUxqYo",
    "outputId": "85e5e31c-dad7-4043-b387-ee80bbf537fc"
   },
   "outputs": [
    {
     "name": "stderr",
     "output_type": "stream",
     "text": [
      "C:\\Users\\leojs\\AppData\\Local\\Packages\\PythonSoftwareFoundation.Python.3.10_qbz5n2kfra8p0\\LocalCache\\local-packages\\Python310\\site-packages\\torch\\utils\\data\\datapipes\\iter\\combining.py:297: UserWarning: Some child DataPipes are not exhausted when __iter__ is called. We are resetting the buffer and each child DataPipe will read from the start again.\n",
      "  warnings.warn(\"Some child DataPipes are not exhausted when __iter__ is called. We are resetting \"\n"
     ]
    },
    {
     "name": "stdout",
     "output_type": "stream",
     "text": [
      "tensor([[ 2782,   327,     8,   315,   994,   341,   100,   939,    43,   843,\n",
      "             5,   747, 13619,     9,  6578,     8,     3,  2119,   100,   341,\n",
      "            12,   315,   994,     2,     0,     0,     0,     0,     0,     0,\n",
      "             0,     0,     0,     0,     0,     0,     0,     0,     0,     0,\n",
      "             0,     0,     0,     0,     0,     0,     0,     0,     0,     0,\n",
      "             0,     0,     0,     0,     0,     0,     0,     0,     0,     0,\n",
      "             0,     0,     0,     0,     0,     0,     0,     0,     0,     0,\n",
      "             0,     0,     0,     0,     0,     0,     0,     0,     0,     0,\n",
      "             0,     0,     0,     0,     0,     0,     0,     0,     0,     0,\n",
      "             0,     0,     0,     0,     0,     0,     0,     0,     0,     0,\n",
      "             0,     0,     0,     0,     0,     0,     0,     0,     0,     0,\n",
      "             0,     0,     0,     0,     0,     0,     0,     0,     0,     0,\n",
      "             0,     0,     0,     0,     0,     0,     0,     0,     0,     0,\n",
      "             0,     0,     0,     0,     0,     0,     0,     0,     0,     0,\n",
      "             0,     0,     0,     0,     0,     0],\n",
      "        [14391,  2483,  5786,    30,   443,  1010,  1083,    24,    74,    14,\n",
      "            28,    15,    16,   176,  3047,  2483,    29,  5041,    30,     3,\n",
      "          4277, 12118,   175,     4,   843,    11,    56,    11,   443,  1010,\n",
      "             4,  1369, 12231,     2,     0,     0,     0,     0,     0,     0,\n",
      "             0,     0,     0,     0,     0,     0,     0,     0,     0,     0,\n",
      "             0,     0,     0,     0,     0,     0,     0,     0,     0,     0,\n",
      "             0,     0,     0,     0,     0,     0,     0,     0,     0,     0,\n",
      "             0,     0,     0,     0,     0,     0,     0,     0,     0,     0,\n",
      "             0,     0,     0,     0,     0,     0,     0,     0,     0,     0,\n",
      "             0,     0,     0,     0,     0,     0,     0,     0,     0,     0,\n",
      "             0,     0,     0,     0,     0,     0,     0,     0,     0,     0,\n",
      "             0,     0,     0,     0,     0,     0,     0,     0,     0,     0,\n",
      "             0,     0,     0,     0,     0,     0,     0,     0,     0,     0,\n",
      "             0,     0,     0,     0,     0,     0,     0,     0,     0,     0,\n",
      "             0,     0,     0,     0,     0,     0],\n",
      "        [  203,  2941,     5,  1883,    44,   412,  1605,    14,   106,    15,\n",
      "           106,    16,   203,    65,  2042,     5,  1883,    44,    31,  6594,\n",
      "           412,  1605,     4,  6117,     6,   217,   343,     8,     3, 19102,\n",
      "          6483,    34,    38,   135,   802,   302,     2,     0,     0,     0,\n",
      "             0,     0,     0,     0,     0,     0,     0,     0,     0,     0,\n",
      "             0,     0,     0,     0,     0,     0,     0,     0,     0,     0,\n",
      "             0,     0,     0,     0,     0,     0,     0,     0,     0,     0,\n",
      "             0,     0,     0,     0,     0,     0,     0,     0,     0,     0,\n",
      "             0,     0,     0,     0,     0,     0,     0,     0,     0,     0,\n",
      "             0,     0,     0,     0,     0,     0,     0,     0,     0,     0,\n",
      "             0,     0,     0,     0,     0,     0,     0,     0,     0,     0,\n",
      "             0,     0,     0,     0,     0,     0,     0,     0,     0,     0,\n",
      "             0,     0,     0,     0,     0,     0,     0,     0,     0,     0,\n",
      "             0,     0,     0,     0,     0,     0,     0,     0,     0,     0,\n",
      "             0,     0,     0,     0,     0,     0],\n",
      "        [   76,    17,    10,   647,     3,   277,  7392,    17,    10, 11242,\n",
      "            81, 71392,     4,    31,   176,   765, 26412, 25103,  6163, 29934,\n",
      "         30297,     7,   118,     4, 30419,     4,     8,     3,   217,     7,\n",
      "             3,   510,    17,    10, 39376,    58,     4,  8907,     3,    48,\n",
      "           176,   277,     8,     6, 10205, 13547,  1152,     2,     0,     0,\n",
      "             0,     0,     0,     0,     0,     0,     0,     0,     0,     0,\n",
      "             0,     0,     0,     0,     0,     0,     0,     0,     0,     0,\n",
      "             0,     0,     0,     0,     0,     0,     0,     0,     0,     0,\n",
      "             0,     0,     0,     0,     0,     0,     0,     0,     0,     0,\n",
      "             0,     0,     0,     0,     0,     0,     0,     0,     0,     0,\n",
      "             0,     0,     0,     0,     0,     0,     0,     0,     0,     0,\n",
      "             0,     0,     0,     0,     0,     0,     0,     0,     0,     0,\n",
      "             0,     0,     0,     0,     0,     0,     0,     0,     0,     0,\n",
      "             0,     0,     0,     0,     0,     0,     0,     0,     0,     0,\n",
      "             0,     0,     0,     0,     0,     0]])\n",
      "tensor([[ 0.0408,  0.1845,  0.2696, -0.0320],\n",
      "        [ 0.0408,  0.1845,  0.2696, -0.0320],\n",
      "        [ 0.0408,  0.1845,  0.2696, -0.0320],\n",
      "        [ 0.0408,  0.1845,  0.2696, -0.0320]], grad_fn=<SliceBackward0>)\n",
      "tensor([3, 1, 3, 0])\n"
     ]
    }
   ],
   "source": [
    "model = LSTMTextClassificationModel(len(vocab), 32, 64, 4)\n",
    "model.train()\n",
    "\n",
    "for batch in train_dataloader:\n",
    "    predicted_label = model(batch[1])\n",
    "    label = batch[0]\n",
    "    break\n",
    "\n",
    "print(batch[1][:4])\n",
    "print(predicted_label[:4])\n",
    "print(label[:4])"
   ]
  },
  {
   "cell_type": "markdown",
   "metadata": {
    "id": "rh5tynLOxqYo"
   },
   "source": [
    "#### **Entrenamiento**\n",
    "\n",
    "Vamos a construir las funciones <code>train</code> y <code>evaluate</code>. Dentro de la función <code>evaluate</code> vamos a prestar atención al contexto <code>with torch.no_grad():</code>, que sirve para indicar que no se van a calcular los gradientes. Esto es así porque en la fase de evaluación no se van a actualizar los pesos de la red, solo se van a utilizar para calcular la precisión de la red. Esto optimiza los recursos utilizados por PyTorch en cuanto a la gestión de la memoria.\n",
    "\n",
    "Recuerda que en PyTorch, `model.train()` y `model.eval()` son métodos que se utilizan para cambiar el modo de entrenamiento de un modelo de aprendizaje profundo. Estos métodos afectan el comportamiento de ciertos módulos en el modelo, como las capas de dropout y normalización, que se comportan de manera diferente durante el entrenamiento y la evaluación. Específicamente hacen lo siguiente:\n",
    "\n",
    "**model.train()**:\n",
    "   - Cuando se llama a `model.train()`, el modelo se coloca en modo de entrenamiento.\n",
    "   - En este modo, las capas de dropout se activan, lo que significa que se aplican durante el entrenamiento para ayudar a evitar el sobreajuste. Durante el entrenamiento, las capas de dropout \"apagan\" aleatoriamente un porcentaje de las unidades (neuronas) en la red en cada paso de entrenamiento.\n",
    "   - También afecta a las capas de normalización, como Batch Normalization, para que utilicen estadísticas de mini-lotes (batches) durante el entrenamiento.\n",
    "\n",
    "**model.eval()**:\n",
    "   - Cuando se llama a `model.eval()`, el modelo se coloca en modo de evaluación o inferencia.\n",
    "   - En este modo, las capas de dropout se desactivan, lo que significa que no se aplican durante la evaluación. Esto garantiza que el modelo produzca resultados deterministas y coherentes durante la inferencia.\n",
    "   - Las capas de normalización, como Batch Normalization, utilizan estadísticas acumuladas durante el entrenamiento (en lugar de estadísticas de mini-lotes) para garantizar una evaluación coherente y precisa.\n",
    "\n",
    "\n",
    "En la práctica, es común utilizar `model.train()` antes de cada época de entrenamiento y `model.eval()` antes de realizar inferencia o evaluación en un modelo entrenado. Cambiar entre estos modos es esencial para garantizar que el modelo se comporte correctamente en diferentes etapas del proceso de entrenamiento y evaluación."
   ]
  },
  {
   "cell_type": "code",
   "execution_count": 8,
   "metadata": {
    "executionInfo": {
     "elapsed": 341,
     "status": "ok",
     "timestamp": 1728908379133,
     "user": {
      "displayName": "Cayetano Guerra Artal",
      "userId": "03341762219900016346"
     },
     "user_tz": -60
    },
    "id": "LTZdze2pxqYo"
   },
   "outputs": [],
   "source": [
    "import time\n",
    "\n",
    "# Hyperparameters\n",
    "EPOCHS = 10  # epoch\n",
    "LR = 5  # learning rate\n",
    "\n",
    "criterion = torch.nn.CrossEntropyLoss()\n",
    "optimizer = torch.optim.SGD(model.parameters(), lr=LR)\n",
    "scheduler = torch.optim.lr_scheduler.StepLR(optimizer, 1.0, gamma=0.1)\n",
    "\n",
    "def train(dataloader):\n",
    "    model.train()\n",
    "    total_acc, total_count, max_acc = 0, 0, 0\n",
    "    log_interval = 500\n",
    "    start_time = time.time()\n",
    "\n",
    "    for idx, (label, text) in enumerate(dataloader):\n",
    "        optimizer.zero_grad()\n",
    "        predicted_label = model(text)\n",
    "        loss = criterion(predicted_label, label)\n",
    "        loss.backward()\n",
    "        torch.nn.utils.clip_grad_norm_(model.parameters(), 0.1)\n",
    "        optimizer.step()\n",
    "\n",
    "        total_acc += (predicted_label.argmax(1) == label).sum().item()\n",
    "        total_count += label.size(0)\n",
    "        if idx % log_interval == 0 and idx > 0:\n",
    "            elapsed = time.time() - start_time\n",
    "            print('| {:5d} batches '\n",
    "                  '| accuracy {:8.3f}'.format(idx, total_acc / total_count))\n",
    "\n",
    "            if max_acc < total_acc / total_count:\n",
    "                max_acc = total_acc / total_count\n",
    "\n",
    "            total_acc, total_count = 0, 0\n",
    "            start_time = time.time()\n",
    "    return max_acc\n",
    "\n",
    "\n",
    "def evaluate(dataloader):\n",
    "    model.eval()\n",
    "    total_acc, total_count = 0, 0\n",
    "\n",
    "    with torch.no_grad():\n",
    "        for idx, (label, text) in enumerate(dataloader):\n",
    "            predicted_label = model(text)\n",
    "            loss = criterion(predicted_label, label)\n",
    "            total_acc += (predicted_label.argmax(1) == label).sum().item()\n",
    "            total_count += label.size(0)\n",
    "    return total_acc / total_count"
   ]
  },
  {
   "cell_type": "code",
   "execution_count": 10,
   "metadata": {
    "colab": {
     "base_uri": "https://localhost:8080/"
    },
    "executionInfo": {
     "elapsed": 398675,
     "status": "ok",
     "timestamp": 1728908780396,
     "user": {
      "displayName": "Cayetano Guerra Artal",
      "userId": "03341762219900016346"
     },
     "user_tz": -60
    },
    "id": "ePPAY6O2xqYp",
    "outputId": "5579d5ae-5a07-4fdc-9541-16363fb4b49b"
   },
   "outputs": [
    {
     "name": "stdout",
     "output_type": "stream",
     "text": [
      "|   500 batches | accuracy    0.252\n",
      "|  1000 batches | accuracy    0.248\n",
      "|  1500 batches | accuracy    0.258\n",
      "-----------------------------------------------------------\n",
      "| end of epoch   1 | time: 121.10s | valid accuracy    0.249 \n",
      "-----------------------------------------------------------\n",
      "|   500 batches | accuracy    0.259\n",
      "|  1000 batches | accuracy    0.258\n",
      "|  1500 batches | accuracy    0.254\n",
      "-----------------------------------------------------------\n",
      "| end of epoch   2 | time: 88.31s | valid accuracy    0.253 \n",
      "-----------------------------------------------------------\n",
      "|   500 batches | accuracy    0.280\n",
      "|  1000 batches | accuracy    0.407\n",
      "|  1500 batches | accuracy    0.457\n",
      "-----------------------------------------------------------\n",
      "| end of epoch   3 | time: 82.22s | valid accuracy    0.564 \n",
      "-----------------------------------------------------------\n",
      "|   500 batches | accuracy    0.611\n",
      "|  1000 batches | accuracy    0.699\n",
      "|  1500 batches | accuracy    0.749\n",
      "-----------------------------------------------------------\n",
      "| end of epoch   4 | time: 80.59s | valid accuracy    0.779 \n",
      "-----------------------------------------------------------\n",
      "|   500 batches | accuracy    0.795\n",
      "|  1000 batches | accuracy    0.822\n",
      "|  1500 batches | accuracy    0.837\n",
      "-----------------------------------------------------------\n",
      "| end of epoch   5 | time: 81.68s | valid accuracy    0.834 \n",
      "-----------------------------------------------------------\n",
      "|   500 batches | accuracy    0.845\n",
      "|  1000 batches | accuracy    0.859\n",
      "|  1500 batches | accuracy    0.871\n",
      "-----------------------------------------------------------\n",
      "| end of epoch   6 | time: 80.19s | valid accuracy    0.852 \n",
      "-----------------------------------------------------------\n",
      "|   500 batches | accuracy    0.867\n",
      "|  1000 batches | accuracy    0.881\n",
      "|  1500 batches | accuracy    0.891\n",
      "-----------------------------------------------------------\n",
      "| end of epoch   7 | time: 82.74s | valid accuracy    0.866 \n",
      "-----------------------------------------------------------\n",
      "|   500 batches | accuracy    0.884\n",
      "|  1000 batches | accuracy    0.892\n",
      "|  1500 batches | accuracy    0.903\n",
      "-----------------------------------------------------------\n",
      "| end of epoch   8 | time: 97.30s | valid accuracy    0.868 \n",
      "-----------------------------------------------------------\n",
      "|   500 batches | accuracy    0.893\n",
      "|  1000 batches | accuracy    0.906\n",
      "|  1500 batches | accuracy    0.913\n",
      "-----------------------------------------------------------\n",
      "| end of epoch   9 | time: 107.39s | valid accuracy    0.871 \n",
      "-----------------------------------------------------------\n",
      "|   500 batches | accuracy    0.903\n",
      "|  1000 batches | accuracy    0.914\n",
      "|  1500 batches | accuracy    0.923\n",
      "-----------------------------------------------------------\n",
      "| end of epoch  10 | time: 103.75s | valid accuracy    0.879 \n",
      "-----------------------------------------------------------\n"
     ]
    }
   ],
   "source": [
    "for epoch in range(1, EPOCHS + 1):\n",
    "    epoch_start_time = time.time()\n",
    "\n",
    "    accu_train = train(train_dataloader)\n",
    "    accu_val = evaluate(test_dataloader)\n",
    "\n",
    "    #if accu_train > accu_val:\n",
    "    #    scheduler.step()\n",
    "\n",
    "    print(\"-\" * 59)\n",
    "    print(\n",
    "        \"| end of epoch {:3d} | time: {:5.2f}s | \"\n",
    "        \"valid accuracy {:8.3f} \".format(\n",
    "            epoch, time.time() - epoch_start_time, accu_val\n",
    "        )\n",
    "    )\n",
    "    print(\"-\" * 59)"
   ]
  },
  {
   "cell_type": "markdown",
   "metadata": {
    "id": "-z4A-6sixqYp"
   },
   "source": [
    "---\n",
    "\n",
    "## **Práctica 1: Uso de *embeddings* preentrenados**\n",
    "\n",
    "Modifica el código anterior para adaptar el modelo LSTM al uso de *embeddings* preentrenados. Para ello, usa <code>from torchtext.vocab import GloVe</code> y elige el conjunto de *embeddings* GloVe que prefieras. Puedes encontrar más información en https://pytorch.org/text/stable/vocab.html#torchtext.vocab.GloVe\n",
    "\n",
    "Verifica si se produce una mejora en la precisión del modelo. ¿Qué ocurre si usas un conjunto de *embeddings* preentrenados de diferentes tamaños?\n",
    "\n",
    "\n",
    "\n",
    "---"
   ]
  },
  {
   "cell_type": "code",
   "execution_count": 2,
   "metadata": {},
   "outputs": [
    {
     "name": "stderr",
     "output_type": "stream",
     "text": [
      ".vector_cache\\glove.6B.zip: 862MB [22:47, 630kB/s]                                \n",
      "100%|█████████▉| 399999/400000 [00:28<00:00, 13934.90it/s]\n"
     ]
    }
   ],
   "source": [
    "from torchtext.vocab import GloVe\n",
    "\n",
    "glove = GloVe(name='6B', dim=100)\n",
    "\n",
    "def get_pretrained_embedding(vocab, glove):\n",
    "    pretrained_embedding = torch.zeros(len(vocab), glove.dim)\n",
    "    for idx, token in enumerate(vocab.get_itos()):\n",
    "        pretrained_embedding[idx] = glove[token]\n",
    "    return pretrained_embedding"
   ]
  },
  {
   "cell_type": "code",
   "execution_count": 3,
   "metadata": {},
   "outputs": [],
   "source": [
    "import torch\n",
    "import torch.nn as nn\n",
    "\n",
    "class LSTMTextClassificationModel(nn.Module):\n",
    "    def __init__(self, vocab_size, embed_dim, hidden_dim, num_class,pretrained_embedding):\n",
    "        super(LSTMTextClassificationModel, self).__init__()\n",
    "        self.embedding = nn.Embedding(vocab_size, embed_dim)  # <-- Capa de embedding genérica (no pre-entrenada)\n",
    "        self.embedding.weight = nn.Parameter(pretrained_embedding)\n",
    "        self.embedding.weight.requires_grad = False\n",
    "        self.lstm = nn.LSTM(embed_dim, hidden_dim, batch_first=True)\n",
    "        #self.rnn = nn.RNN(embed_dim, hidden_dim, batch_first=True)\n",
    "        self.fc = nn.Linear(hidden_dim, num_class)\n",
    "\n",
    "    def forward(self, text):\n",
    "        embedded = self.embedding(text)  # <-- Tras pasar por la capa de embedding, las palabras se representan como vectores\n",
    "        lstm_out, _ = self.lstm(embedded)\n",
    "        #lstm_out, _ = self.rnn(embedded)\n",
    "        # Tomar la última salida de la secuencia LSTM\n",
    "        last_output = lstm_out[:, -1, :]\n",
    "        output = self.fc(last_output)\n",
    "        return output\n"
   ]
  },
  {
   "cell_type": "code",
   "execution_count": 14,
   "metadata": {},
   "outputs": [
    {
     "name": "stdout",
     "output_type": "stream",
     "text": [
      "|   500 batches | accuracy    0.247\n",
      "|  1000 batches | accuracy    0.245\n",
      "|  1500 batches | accuracy    0.256\n",
      "-----------------------------------------------------------\n",
      "| end of epoch   1 | time: 188.17s | valid accuracy    0.251 \n",
      "-----------------------------------------------------------\n",
      "|   500 batches | accuracy    0.247\n",
      "|  1000 batches | accuracy    0.246\n",
      "|  1500 batches | accuracy    0.254\n",
      "-----------------------------------------------------------\n",
      "| end of epoch   2 | time: 172.53s | valid accuracy    0.251 \n",
      "-----------------------------------------------------------\n",
      "|   500 batches | accuracy    0.247\n",
      "|  1000 batches | accuracy    0.246\n",
      "|  1500 batches | accuracy    0.255\n",
      "-----------------------------------------------------------\n",
      "| end of epoch   3 | time: 180.61s | valid accuracy    0.251 \n",
      "-----------------------------------------------------------\n",
      "|   500 batches | accuracy    0.247\n",
      "|  1000 batches | accuracy    0.249\n",
      "|  1500 batches | accuracy    0.252\n",
      "-----------------------------------------------------------\n",
      "| end of epoch   4 | time: 53517.28s | valid accuracy    0.251 \n",
      "-----------------------------------------------------------\n",
      "|   500 batches | accuracy    0.247\n",
      "|  1000 batches | accuracy    0.246\n",
      "|  1500 batches | accuracy    0.254\n",
      "-----------------------------------------------------------\n",
      "| end of epoch   5 | time: 462.45s | valid accuracy    0.250 \n",
      "-----------------------------------------------------------\n",
      "|   500 batches | accuracy    0.245\n",
      "|  1000 batches | accuracy    0.249\n",
      "|  1500 batches | accuracy    0.256\n",
      "-----------------------------------------------------------\n",
      "| end of epoch   6 | time: 457.41s | valid accuracy    0.251 \n",
      "-----------------------------------------------------------\n",
      "|   500 batches | accuracy    0.247\n",
      "|  1000 batches | accuracy    0.249\n",
      "|  1500 batches | accuracy    0.252\n",
      "-----------------------------------------------------------\n",
      "| end of epoch   7 | time: 538.48s | valid accuracy    0.252 \n",
      "-----------------------------------------------------------\n",
      "|   500 batches | accuracy    0.250\n",
      "|  1000 batches | accuracy    0.244\n",
      "|  1500 batches | accuracy    0.252\n",
      "-----------------------------------------------------------\n",
      "| end of epoch   8 | time: 464.98s | valid accuracy    0.251 \n",
      "-----------------------------------------------------------\n",
      "|   500 batches | accuracy    0.247\n",
      "|  1000 batches | accuracy    0.247\n",
      "|  1500 batches | accuracy    0.255\n",
      "-----------------------------------------------------------\n",
      "| end of epoch   9 | time: 436.06s | valid accuracy    0.250 \n",
      "-----------------------------------------------------------\n",
      "|   500 batches | accuracy    0.247\n",
      "|  1000 batches | accuracy    0.248\n",
      "|  1500 batches | accuracy    0.254\n",
      "-----------------------------------------------------------\n",
      "| end of epoch  10 | time: 442.41s | valid accuracy    0.251 \n",
      "-----------------------------------------------------------\n"
     ]
    }
   ],
   "source": [
    "pretrained_embedding = get_pretrained_embedding(vocab, glove)\n",
    "\n",
    "model = LSTMTextClassificationModel(len(vocab), 100, 128, 4,pretrained_embedding)\n",
    "\n",
    "for epoch in range(1, EPOCHS + 1):\n",
    "    epoch_start_time = time.time()\n",
    "\n",
    "    accu_train = train(train_dataloader)\n",
    "    accu_val = evaluate(test_dataloader)\n",
    "\n",
    "    #if accu_train > accu_val:\n",
    "    #    scheduler.step()\n",
    "\n",
    "    print(\"-\" * 59)\n",
    "    print(\n",
    "        \"| end of epoch {:3d} | time: {:5.2f}s | \"\n",
    "        \"valid accuracy {:8.3f} \".format(\n",
    "            epoch, time.time() - epoch_start_time, accu_val\n",
    "        )\n",
    "    )\n",
    "    print(\"-\" * 59)"
   ]
  }
 ],
 "metadata": {
  "accelerator": "GPU",
  "colab": {
   "gpuType": "A100",
   "machine_shape": "hm",
   "provenance": []
  },
  "kernelspec": {
   "display_name": "PLN2",
   "language": "python",
   "name": "python3"
  },
  "language_info": {
   "codemirror_mode": {
    "name": "ipython",
    "version": 3
   },
   "file_extension": ".py",
   "mimetype": "text/x-python",
   "name": "python",
   "nbconvert_exporter": "python",
   "pygments_lexer": "ipython3",
   "version": "3.12.8"
  }
 },
 "nbformat": 4,
 "nbformat_minor": 0
}
